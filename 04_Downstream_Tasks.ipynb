{
  "nbformat": 4,
  "nbformat_minor": 0,
  "metadata": {
    "colab": {
      "name": "04_Downstream_Tasks.ipynb",
      "provenance": [],
      "authorship_tag": "ABX9TyOMAF1YOnMj3FCiBnm53dhI",
      "include_colab_link": true
    },
    "kernelspec": {
      "name": "python3",
      "display_name": "Python 3"
    },
    "language_info": {
      "name": "python"
    }
  },
  "cells": [
    {
      "cell_type": "markdown",
      "metadata": {
        "id": "view-in-github",
        "colab_type": "text"
      },
      "source": [
        "<a href=\"https://colab.research.google.com/github/Sihan-A/transformers_NLP/blob/main/04_Downstream_Tasks.ipynb\" target=\"_parent\"><img src=\"https://colab.research.google.com/assets/colab-badge.svg\" alt=\"Open In Colab\"/></a>"
      ]
    },
    {
      "cell_type": "markdown",
      "metadata": {
        "id": "AvNmvcbNoMJo"
      },
      "source": [
        "# 4 Downstream Tasks"
      ]
    },
    {
      "cell_type": "markdown",
      "metadata": {
        "id": "D0u7G4bOns1a"
      },
      "source": [
        "1. Machine versus human intelligence for transduction and induction\n",
        "2. The NLP transduction and induction process\n",
        "3. Measuring transformer performances versus human baselines\n",
        "4. Measurement methods (Accuracy, F1-score, and MCC)\n",
        "5. Benchmark tasks and datasets\n",
        "6. SuperGLUE downstream tasks\n",
        "7. Linguistic acceptability with CoLA\n",
        "8. Sentiment analysis with SST-2\n",
        "9. Winograd schemas"
      ]
    },
    {
      "cell_type": "code",
      "metadata": {
        "id": "s8nlkQ9DoKbQ"
      },
      "source": [
        ""
      ],
      "execution_count": null,
      "outputs": []
    },
    {
      "cell_type": "code",
      "metadata": {
        "id": "3mzRr_r1oKYx"
      },
      "source": [
        ""
      ],
      "execution_count": null,
      "outputs": []
    },
    {
      "cell_type": "code",
      "metadata": {
        "id": "ArrCgd1IoKVz"
      },
      "source": [
        ""
      ],
      "execution_count": null,
      "outputs": []
    },
    {
      "cell_type": "code",
      "metadata": {
        "id": "Uq9LlmSLoKSS"
      },
      "source": [
        ""
      ],
      "execution_count": null,
      "outputs": []
    },
    {
      "cell_type": "code",
      "metadata": {
        "id": "CwV3IiWGoKNa"
      },
      "source": [
        ""
      ],
      "execution_count": null,
      "outputs": []
    },
    {
      "cell_type": "code",
      "metadata": {
        "id": "VAuDTfgLnsCN"
      },
      "source": [
        ""
      ],
      "execution_count": null,
      "outputs": []
    }
  ]
}