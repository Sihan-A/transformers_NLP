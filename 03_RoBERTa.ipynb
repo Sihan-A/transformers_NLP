{
  "nbformat": 4,
  "nbformat_minor": 0,
  "metadata": {
    "colab": {
      "name": "03_RoBERTa.ipynb",
      "provenance": [],
      "authorship_tag": "ABX9TyNv7gPITrOiRfHdtc3/JT08",
      "include_colab_link": true
    },
    "kernelspec": {
      "name": "python3",
      "display_name": "Python 3"
    },
    "language_info": {
      "name": "python"
    },
    "accelerator": "GPU"
  },
  "cells": [
    {
      "cell_type": "markdown",
      "metadata": {
        "id": "view-in-github",
        "colab_type": "text"
      },
      "source": [
        "<a href=\"https://colab.research.google.com/github/Sihan-A/transformers_NLP/blob/main/03_RoBERTa.ipynb\" target=\"_parent\"><img src=\"https://colab.research.google.com/assets/colab-badge.svg\" alt=\"Open In Colab\"/></a>"
      ]
    },
    {
      "cell_type": "markdown",
      "metadata": {
        "id": "39FptL6yuwZ4"
      },
      "source": [
        "# 3 RoBERTa"
      ]
    },
    {
      "cell_type": "markdown",
      "metadata": {
        "id": "iM9weYy7vBZv"
      },
      "source": [
        "1. RoBERTa- and DistilBERT-like models\n",
        "1. How to train a tokenizer from scratch\n",
        "1. Byte-level byte-pair encoding\n",
        "1. Saving the trained tokenizer to files\n",
        "1. Recreating the tokenizer for the pretraining process\n",
        "1. Initializing a RoBERTa model from scratch\n",
        "1. Exploring the configuration of the model\n",
        "1. Exploring the 80 million parameters of the model\n",
        "1. Building the dataset for the trainer\n",
        "1. Initializing the trainer\n",
        "1. Pretraining the model\n",
        "1. Saving the model\n",
        "1. Applying the model to the downstream tasks of masked language modeling"
      ]
    },
    {
      "cell_type": "code",
      "metadata": {
        "id": "f44t2i6_uvul"
      },
      "source": [
        ""
      ],
      "execution_count": null,
      "outputs": []
    },
    {
      "cell_type": "code",
      "metadata": {
        "id": "HQjObzD8u1NI"
      },
      "source": [
        ""
      ],
      "execution_count": null,
      "outputs": []
    },
    {
      "cell_type": "code",
      "metadata": {
        "id": "Cu8byVLru1KQ"
      },
      "source": [
        ""
      ],
      "execution_count": null,
      "outputs": []
    },
    {
      "cell_type": "code",
      "metadata": {
        "id": "oYdYPQxou1HJ"
      },
      "source": [
        ""
      ],
      "execution_count": null,
      "outputs": []
    },
    {
      "cell_type": "code",
      "metadata": {
        "id": "pu9av3gMu1EV"
      },
      "source": [
        ""
      ],
      "execution_count": null,
      "outputs": []
    }
  ]
}